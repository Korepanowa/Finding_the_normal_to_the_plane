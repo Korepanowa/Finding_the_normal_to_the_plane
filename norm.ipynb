{
 "cells": [
  {
   "cell_type": "code",
   "execution_count": 1,
   "metadata": {},
   "outputs": [],
   "source": [
    "from tkinter import filedialog \n",
    "from tkinter.filedialog import askopenfilename\n",
    "#import requests\n",
    "\n",
    "filename1 = filedialog.askopenfilename(initialdir = \"/\", title = \"Select file\", filetypes = ((\"txt files\", \"*.txt\"),(\"all files\",\"*.*\")))\n",
    "\n",
    "#file1 = open('%s/C:\\Users\\user\\Desktop\\normal.txt' % (filefolder), \"a\")\n",
    "\n",
    "#lines = islice(file1, 24, None)\n",
    "\n",
    "\n",
    "def count_the(filename1):\n",
    "   # r = requests.get(filename1, stream=True)\n",
    "    # global count1\n",
    "    count1 = 0\n",
    "    for item in filename1:\n",
    "        country_name = item[0].lower()\n",
    "        if country_name.startwith(';LAYER:'):\n",
    "            count1 += 1\n",
    "            \n",
    "    return count1\n"
   ]
  }
 ],
 "metadata": {
  "kernelspec": {
   "display_name": "Python 3.11.1 64-bit",
   "language": "python",
   "name": "python3"
  },
  "language_info": {
   "codemirror_mode": {
    "name": "ipython",
    "version": 3
   },
   "file_extension": ".py",
   "mimetype": "text/x-python",
   "name": "python",
   "nbconvert_exporter": "python",
   "pygments_lexer": "ipython3",
   "version": "3.11.1"
  },
  "orig_nbformat": 4,
  "vscode": {
   "interpreter": {
    "hash": "de47f5c92c0ee6f12a59a5613ac5feff6aab19ddff207ba0b3964cced08c4ccc"
   }
  }
 },
 "nbformat": 4,
 "nbformat_minor": 2
}
